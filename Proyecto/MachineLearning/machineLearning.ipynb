{
 "cells": [
  {
   "cell_type": "code",
   "execution_count": 2,
   "metadata": {},
   "outputs": [],
   "source": [
    "import pandas as pd\n",
    "from sklearn.model_selection import train_test_split\n",
    "from sklearn.ensemble import RandomForestClassifier\n",
    "from sklearn.impute import SimpleImputer\n",
    "from sklearn.preprocessing import OrdinalEncoder\n",
    "from sklearn.pipeline import Pipeline\n",
    "from sklearn.compose import ColumnTransformer\n",
    "from sklearn.metrics import accuracy_score\n",
    "import numpy as np"
   ]
  },
  {
   "cell_type": "code",
   "execution_count": null,
   "metadata": {},
   "outputs": [],
   "source": [
    "dfElche = pd.read_csv('../Procesamiento/Elche-limpio.csv', sep=';')\n",
    "dfOrihuela = pd.read_csv('../Procesamiento/Orihuela-limpio.csv', sep=';')\n",
    "dfTorrevieja = pd.read_csv('../Procesamiento/Torrevieja-limpio.csv', sep=';')\n",
    "\n",
    "df_combined = pd.concat([dfElche, dfOrihuela, dfTorrevieja], ignore_index=True)\n",
    "\n",
    "df_combined.tail(10)"
   ]
  },
  {
   "cell_type": "markdown",
   "metadata": {},
   "source": [
    "Veo la cantidad de nulos"
   ]
  },
  {
   "cell_type": "code",
   "execution_count": null,
   "metadata": {},
   "outputs": [],
   "source": [
    "df_combined.isnull().sum()"
   ]
  },
  {
   "cell_type": "markdown",
   "metadata": {},
   "source": [
    "Relleno las columnas con menos de mil nulos"
   ]
  },
  {
   "cell_type": "code",
   "execution_count": null,
   "metadata": {},
   "outputs": [],
   "source": [
    "df_combined = df_combined.apply(lambda col: col.astype('category').cat.codes if col.dtypes == 'object' or col.dtypes.name == 'category' else col)\n",
    "df_combined"
   ]
  },
  {
   "cell_type": "code",
   "execution_count": null,
   "metadata": {},
   "outputs": [],
   "source": [
    "columnas_menos_nulos = df_combined.columns[df_combined.isnull().sum() < 400000]\n",
    "\n",
    "for col in columnas_menos_nulos:\n",
    "    df_combined[col].fillna(df_combined[col].median(), inplace=True)"
   ]
  },
  {
   "cell_type": "code",
   "execution_count": null,
   "metadata": {},
   "outputs": [],
   "source": [
    "df_combined.isnull().sum()"
   ]
  },
  {
   "cell_type": "markdown",
   "metadata": {},
   "source": [
    "Elimino las que tengan mas nulos "
   ]
  },
  {
   "cell_type": "code",
   "execution_count": 16,
   "metadata": {},
   "outputs": [],
   "source": [
    "nulos_por_columna = df_combined.isnull().sum()\n",
    "columnas_mas_1000_nulos = nulos_por_columna[nulos_por_columna >= 400000].index\n",
    "\n",
    "df_combined.drop(columns=columnas_mas_1000_nulos, inplace=True)"
   ]
  },
  {
   "cell_type": "code",
   "execution_count": null,
   "metadata": {},
   "outputs": [],
   "source": [
    "df_combined.isnull().sum()"
   ]
  },
  {
   "cell_type": "code",
   "execution_count": 18,
   "metadata": {},
   "outputs": [],
   "source": [
    "y = df_combined['SO2']\n",
    "X = df_combined.drop(['SO2'],axis=1)"
   ]
  },
  {
   "cell_type": "code",
   "execution_count": null,
   "metadata": {},
   "outputs": [],
   "source": [
    "y"
   ]
  },
  {
   "cell_type": "code",
   "execution_count": null,
   "metadata": {},
   "outputs": [],
   "source": [
    "X"
   ]
  },
  {
   "cell_type": "code",
   "execution_count": 21,
   "metadata": {},
   "outputs": [],
   "source": [
    "from sklearn.model_selection import train_test_split \n",
    "X_train,X_test,y_train,y_test = train_test_split(X,y,test_size=0.2,random_state=0)"
   ]
  },
  {
   "cell_type": "code",
   "execution_count": null,
   "metadata": {},
   "outputs": [],
   "source": [
    "from sklearn.ensemble import RandomForestClassifier\n",
    "model = RandomForestClassifier()\n",
    "model.fit(X_train, y_train)"
   ]
  },
  {
   "cell_type": "code",
   "execution_count": null,
   "metadata": {},
   "outputs": [],
   "source": [
    "model.score(X_test,y_test)"
   ]
  },
  {
   "cell_type": "markdown",
   "metadata": {},
   "source": [
    "Usando Dos algoritmos y viendo con graficas cada uno Automatizado"
   ]
  },
  {
   "cell_type": "code",
   "execution_count": null,
   "metadata": {},
   "outputs": [],
   "source": [
    "import pandas as pd\n",
    "import numpy as np\n",
    "from sklearn.model_selection import train_test_split\n",
    "from sklearn.ensemble import RandomForestClassifier\n",
    "from sklearn.linear_model import LogisticRegression\n",
    "from sklearn.metrics import accuracy_score\n",
    "import matplotlib.pyplot as plt\n",
    "import seaborn as sns\n",
    "\n",
    "dfElche = pd.read_csv('../Procesamiento/Elche-limpio.csv', sep=';')\n",
    "dfOrihuela = pd.read_csv('../Procesamiento/Orihuela-limpio.csv', sep=';')\n",
    "dfTorrevieja = pd.read_csv('../Procesamiento/Torrevieja-limpio.csv', sep=';')\n",
    "\n",
    "df_combined = pd.concat([dfElche, dfOrihuela, dfTorrevieja], ignore_index=True)\n",
    "\n",
    "print(df_combined.tail(10))\n",
    "\n",
    "print(df_combined.isnull().sum())\n",
    "\n",
    "df_combined = df_combined.apply(lambda col: col.astype('category').cat.codes if col.dtypes == 'object' or col.dtypes.name == 'category' else col)\n",
    "\n",
    "print(df_combined)\n",
    "\n",
    "columnas_menos_nulos = df_combined.columns[df_combined.isnull().sum() < 400000]\n",
    "\n",
    "for col in columnas_menos_nulos:\n",
    "    df_combined[col].fillna(df_combined[col].median(), inplace=True)\n",
    "\n",
    "print(df_combined.isnull().sum())\n",
    "\n",
    "nulos_por_columna = df_combined.isnull().sum()\n",
    "columnas_mas_1000_nulos = nulos_por_columna[nulos_por_columna >= 400000].index\n",
    "df_combined.drop(columns=columnas_mas_1000_nulos, inplace=True)\n",
    "\n",
    "print(df_combined.isnull().sum())\n",
    "\n",
    "y = df_combined['SO2']\n",
    "X = df_combined.drop(['SO2'], axis=1)\n",
    "\n",
    "X_train, X_test, y_train, y_test = train_test_split(X, y, test_size=0.2, random_state=0)\n",
    "\n",
    "rf_model = RandomForestClassifier()\n",
    "lr_model = LogisticRegression(max_iter=1000)\n",
    "\n",
    "\n",
    "rf_model.fit(X_train, y_train)\n",
    "lr_model.fit(X_train, y_train)\n",
    "\n",
    "rf_predictions = rf_model.predict(X_test)\n",
    "lr_predictions = lr_model.predict(X_test)\n",
    "\n",
    "\n",
    "rf_accuracy = accuracy_score(y_test, rf_predictions)\n",
    "lr_accuracy = accuracy_score(y_test, lr_predictions)\n",
    "\n",
    "\n",
    "print(f\"Precisión de RandomForest: {rf_accuracy * 100:.2f}%\")\n",
    "print(f\"Precisión de LogisticRegression: {lr_accuracy * 100:.2f}%\")\n",
    "\n",
    "models = ['RandomForest', 'Logistic Regression']\n",
    "accuracies = [rf_accuracy, lr_accuracy]\n",
    "\n",
    "plt.figure(figsize=(8, 5))\n",
    "sns.barplot(x=models, y=accuracies, palette='viridis')\n",
    "plt.title('Comparación de Precisión de Modelos')\n",
    "plt.xlabel('Modelo')\n",
    "plt.ylabel('Precisión')\n",
    "plt.ylim(0, 1)\n",
    "plt.show()\n"
   ]
  },
  {
   "cell_type": "markdown",
   "metadata": {},
   "source": [
    "Sacando el ml a un archivo pickle"
   ]
  },
  {
   "cell_type": "markdown",
   "metadata": {},
   "source": [
    "Modelo con el target O3"
   ]
  },
  {
   "cell_type": "code",
   "execution_count": null,
   "metadata": {},
   "outputs": [],
   "source": [
    "import pandas as pd\n",
    "import numpy as np\n",
    "from sklearn.model_selection import train_test_split\n",
    "from sklearn.ensemble import RandomForestClassifier\n",
    "from sklearn.linear_model import LogisticRegression\n",
    "from sklearn.metrics import accuracy_score\n",
    "import pickle\n",
    "\n",
    "\n",
    "dfElche = pd.read_csv('../Procesamiento/Elche-limpio.csv', sep=';')\n",
    "dfOrihuela = pd.read_csv('../Procesamiento/Orihuela-limpio.csv', sep=';')\n",
    "dfTorrevieja = pd.read_csv('../Procesamiento/Torrevieja-limpio.csv', sep=';')\n",
    "\n",
    "\n",
    "df_combined = pd.concat([dfElche, dfOrihuela, dfTorrevieja], ignore_index=True)\n",
    "\n",
    "print(df_combined.tail(10))\n",
    "\n",
    "print(\"\\nValores nulos iniciales por columna:\")\n",
    "print(df_combined.isnull().sum())\n",
    "\n",
    "if 'FECHA' in df_combined.columns:\n",
    "    df_combined['FECHA'] = pd.to_datetime(df_combined['FECHA'], errors='coerce')\n",
    "\n",
    "    df_combined['año'] = df_combined['FECHA'].dt.year\n",
    "    df_combined['mes'] = df_combined['FECHA'].dt.month\n",
    "    df_combined['dia'] = df_combined['FECHA'].dt.day\n",
    "\n",
    "columns_to_keep = ['año', 'mes', 'dia', 'HORA', 'NOM_ESTACION', 'O3']\n",
    "df_combined = df_combined[columns_to_keep]\n",
    "\n",
    "print(\"\\nPrimeras filas de datos transformados:\")\n",
    "print(df_combined.head())\n",
    "\n",
    "df_combined.dropna(subset=['O3'], inplace=True)\n",
    "\n",
    "print(\"\\nValores nulos después de eliminar filas con nulos en O3:\")\n",
    "print(df_combined.isnull().sum())\n",
    "\n",
    "df_combined = df_combined.apply(lambda col: col.astype('category').cat.codes if col.dtypes == 'object' or col.dtypes.name == 'category' else col)\n",
    "\n",
    "y = df_combined['O3']\n",
    "X = df_combined.drop(['O3'], axis=1)\n",
    "\n",
    "X_train, X_test, y_train, y_test = train_test_split(X, y, test_size=0.2, random_state=0)\n",
    "\n",
    "rf_model = RandomForestClassifier()\n",
    "lr_model = LogisticRegression(max_iter=1000)\n",
    "\n",
    "rf_model.fit(X_train, y_train)\n",
    "lr_model.fit(X_train, y_train)\n",
    "\n",
    "rf_predictions = rf_model.predict(X_test)\n",
    "lr_predictions = lr_model.predict(X_test)\n",
    "\n",
    "rf_accuracy = accuracy_score(y_test, rf_predictions)\n",
    "lr_accuracy = accuracy_score(y_test, lr_predictions)\n",
    "\n",
    "print(f\"\\nPrecisión de RandomForest: {rf_accuracy * 100:.2f}%\")\n",
    "print(f\"Precisión de LogisticRegression: {lr_accuracy * 100:.2f}%\")\n",
    "\n",
    "best_model = rf_model if rf_accuracy > lr_accuracy else lr_model\n",
    "target_name = 'O3'\n",
    "pickle_filename = f\"{target_name}_model.pkl\"\n",
    "\n",
    "with open(pickle_filename, 'wb') as file:\n",
    "    pickle.dump(best_model, file)\n",
    "\n",
    "print(f\"\\nModelo con mejor puntaje ({'RandomForest' if best_model == rf_model else 'Logistic Regression'}) guardado como '{pickle_filename}'.\")\n"
   ]
  },
  {
   "cell_type": "markdown",
   "metadata": {},
   "source": [
    "modelo con target CO"
   ]
  },
  {
   "cell_type": "code",
   "execution_count": null,
   "metadata": {},
   "outputs": [],
   "source": [
    "import pandas as pd\n",
    "import numpy as np\n",
    "from sklearn.model_selection import train_test_split\n",
    "from sklearn.ensemble import RandomForestClassifier\n",
    "from sklearn.linear_model import LogisticRegression\n",
    "from sklearn.metrics import accuracy_score\n",
    "import pickle\n",
    "\n",
    "dfElche = pd.read_csv('../Procesamiento/Elche-limpio.csv', sep=';')\n",
    "dfOrihuela = pd.read_csv('../Procesamiento/Orihuela-limpio.csv', sep=';')\n",
    "dfTorrevieja = pd.read_csv('../Procesamiento/Torrevieja-limpio.csv', sep=';')\n",
    "\n",
    "df_combined = pd.concat([dfElche, dfOrihuela, dfTorrevieja], ignore_index=True)\n",
    "\n",
    "print(df_combined.tail(10))\n",
    "\n",
    "print(\"\\nValores nulos iniciales por columna:\")\n",
    "print(df_combined.isnull().sum())\n",
    "\n",
    "if 'FECHA' in df_combined.columns:\n",
    "    df_combined['FECHA'] = pd.to_datetime(df_combined['FECHA'], errors='coerce')\n",
    "\n",
    "    df_combined['año'] = df_combined['FECHA'].dt.year\n",
    "    df_combined['mes'] = df_combined['FECHA'].dt.month\n",
    "    df_combined['dia'] = df_combined['FECHA'].dt.day\n",
    "\n",
    "columns_to_keep = ['año', 'mes', 'dia', 'HORA', 'NOM_ESTACION', 'CO']\n",
    "df_combined = df_combined[columns_to_keep]\n",
    "\n",
    "print(\"\\nPrimeras filas de datos transformados:\")\n",
    "print(df_combined.head())\n",
    "\n",
    "df_combined.dropna(subset=['CO'], inplace=True)\n",
    "\n",
    "print(\"\\nValores nulos después de eliminar filas con nulos en CO:\")\n",
    "print(df_combined.isnull().sum())\n",
    "\n",
    "df_combined = df_combined.apply(lambda col: col.astype('category').cat.codes if col.dtypes == 'object' or col.dtypes.name == 'category' else col)\n",
    "\n",
    "y = df_combined['CO']\n",
    "X = df_combined.drop(['CO'], axis=1)\n",
    "\n",
    "X_train, X_test, y_train, y_test = train_test_split(X, y, test_size=0.2, random_state=0)\n",
    "\n",
    "rf_model = RandomForestClassifier()\n",
    "lr_model = LogisticRegression(max_iter=1000)\n",
    "\n",
    "rf_model.fit(X_train, y_train)\n",
    "lr_model.fit(X_train, y_train)\n",
    "\n",
    "rf_predictions = rf_model.predict(X_test)\n",
    "lr_predictions = lr_model.predict(X_test)\n",
    "\n",
    "rf_accuracy = accuracy_score(y_test, rf_predictions)\n",
    "lr_accuracy = accuracy_score(y_test, lr_predictions)\n",
    "\n",
    "print(f\"\\nPrecisión de RandomForest: {rf_accuracy * 100:.2f}%\")\n",
    "print(f\"Precisión de LogisticRegression: {lr_accuracy * 100:.2f}%\")\n",
    "\n",
    "best_model = rf_model if rf_accuracy > lr_accuracy else lr_model\n",
    "target_name = 'CO'\n",
    "pickle_filename = f\"{target_name}_model.pkl\"\n",
    "\n",
    "with open(pickle_filename, 'wb') as file:\n",
    "    pickle.dump(best_model, file)\n",
    "\n",
    "print(f\"\\nModelo con mejor puntaje ({'RandomForest' if best_model == rf_model else 'Logistic Regression'}) guardado como '{pickle_filename}'.\")\n"
   ]
  },
  {
   "cell_type": "code",
   "execution_count": null,
   "metadata": {},
   "outputs": [],
   "source": [
    "import pandas as pd\n",
    "import numpy as np\n",
    "from sklearn.model_selection import train_test_split\n",
    "from sklearn.ensemble import RandomForestClassifier\n",
    "from sklearn.linear_model import LogisticRegression\n",
    "from sklearn.metrics import accuracy_score\n",
    "import pickle\n",
    "\n",
    "dfElche = pd.read_csv('../Procesamiento/Elche-limpio.csv', sep=';')\n",
    "dfOrihuela = pd.read_csv('../Procesamiento/Orihuela-limpio.csv', sep=';')\n",
    "dfTorrevieja = pd.read_csv('../Procesamiento/Torrevieja-limpio.csv', sep=';')\n",
    "\n",
    "df_combined = pd.concat([dfElche, dfOrihuela, dfTorrevieja], ignore_index=True)\n",
    "\n",
    "print(df_combined.tail(10))\n",
    "\n",
    "print(\"\\nValores nulos iniciales por columna:\")\n",
    "print(df_combined.isnull().sum())\n",
    "\n",
    "if 'FECHA' in df_combined.columns:\n",
    "    df_combined['FECHA'] = pd.to_datetime(df_combined['FECHA'], errors='coerce')\n",
    "\n",
    "    df_combined['año'] = df_combined['FECHA'].dt.year\n",
    "    df_combined['mes'] = df_combined['FECHA'].dt.month\n",
    "    df_combined['dia'] = df_combined['FECHA'].dt.day\n",
    "\n",
    "columns_to_keep = ['año', 'mes', 'dia', 'HORA', 'NOM_ESTACION', 'SO2']\n",
    "df_combined = df_combined[columns_to_keep]\n",
    "\n",
    "print(\"\\nPrimeras filas de datos transformados:\")\n",
    "print(df_combined.head())\n",
    "\n",
    "df_combined.dropna(subset=['SO2'], inplace=True)\n",
    "\n",
    "print(\"\\nValores nulos después de eliminar filas con nulos en SO2:\")\n",
    "print(df_combined.isnull().sum())\n",
    "\n",
    "df_combined = df_combined.apply(lambda col: col.astype('category').cat.codes if col.dtypes == 'object' or col.dtypes.name == 'category' else col)\n",
    "\n",
    "y = df_combined['SO2']\n",
    "X = df_combined.drop(['SO2'], axis=1)\n",
    "\n",
    "X_train, X_test, y_train, y_test = train_test_split(X, y, test_size=0.2, random_state=0)\n",
    "\n",
    "rf_model = RandomForestClassifier()\n",
    "lr_model = LogisticRegression(max_iter=1000)\n",
    "\n",
    "rf_model.fit(X_train, y_train)\n",
    "lr_model.fit(X_train, y_train)\n",
    "\n",
    "rf_predictions = rf_model.predict(X_test)\n",
    "lr_predictions = lr_model.predict(X_test)\n",
    "\n",
    "rf_accuracy = accuracy_score(y_test, rf_predictions)\n",
    "lr_accuracy = accuracy_score(y_test, lr_predictions)\n",
    "\n",
    "print(f\"\\nPrecisión de RandomForest: {rf_accuracy * 100:.2f}%\")\n",
    "print(f\"Precisión de LogisticRegression: {lr_accuracy * 100:.2f}%\")\n",
    "\n",
    "best_model = rf_model if rf_accuracy > lr_accuracy else lr_model\n",
    "target_name = 'SO2'\n",
    "pickle_filename = f\"{target_name}_model.pkl\"\n",
    "\n",
    "with open(pickle_filename, 'wb') as file:\n",
    "    pickle.dump(best_model, file)\n",
    "\n",
    "print(f\"\\nModelo con mejor puntaje ({'RandomForest' if best_model == rf_model else 'Logistic Regression'}) guardado como '{pickle_filename}'.\")\n"
   ]
  }
 ],
 "metadata": {
  "kernelspec": {
   "display_name": "Python 3",
   "language": "python",
   "name": "python3"
  },
  "language_info": {
   "codemirror_mode": {
    "name": "ipython",
    "version": 3
   },
   "file_extension": ".py",
   "mimetype": "text/x-python",
   "name": "python",
   "nbconvert_exporter": "python",
   "pygments_lexer": "ipython3",
   "version": "3.10.11"
  }
 },
 "nbformat": 4,
 "nbformat_minor": 2
}
