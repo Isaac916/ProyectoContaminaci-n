{
 "cells": [
  {
   "cell_type": "code",
   "execution_count": 1,
   "metadata": {},
   "outputs": [
    {
     "name": "stdout",
     "output_type": "stream",
     "text": [
      "Procesando la carpeta: 2023_csv_files\n",
      "Leyendo el archivo: contaminacion-atmosferica-y-ozono-promedios-por-horas_202301.csv\n"
     ]
    },
    {
     "name": "stderr",
     "output_type": "stream",
     "text": [
      "C:\\Users\\snkle\\AppData\\Local\\Temp\\ipykernel_9812\\2118504879.py:29: DtypeWarning: Columns (10,11,12,17,18,20,21) have mixed types. Specify dtype option on import or set low_memory=False.\n",
      "  df = pd.read_csv(csv_path, encoding='utf-8', delimiter=';', on_bad_lines='skip')\n"
     ]
    },
    {
     "name": "stdout",
     "output_type": "stream",
     "text": [
      "Leyendo el archivo: contaminacion-atmosferica-y-ozono-promedios-por-horas_202302.csv\n",
      "Leyendo el archivo: contaminacion-atmosferica-y-ozono-promedios-por-horas_202303.csv\n"
     ]
    },
    {
     "name": "stderr",
     "output_type": "stream",
     "text": [
      "C:\\Users\\snkle\\AppData\\Local\\Temp\\ipykernel_9812\\2118504879.py:29: DtypeWarning: Columns (10,11,12,17,18,20,21) have mixed types. Specify dtype option on import or set low_memory=False.\n",
      "  df = pd.read_csv(csv_path, encoding='utf-8', delimiter=';', on_bad_lines='skip')\n"
     ]
    },
    {
     "name": "stdout",
     "output_type": "stream",
     "text": [
      "Leyendo el archivo: contaminacion-atmosferica-y-ozono-promedios-por-horas_202304.csv\n",
      "Leyendo el archivo: contaminacion-atmosferica-y-ozono-promedios-por-horas_202305.csv\n",
      "Leyendo el archivo: contaminacion-atmosferica-y-ozono-promedios-por-horas_202306.csv\n",
      "Leyendo el archivo: contaminacion-atmosferica-y-ozono-promedios-por-horas_202307.csv\n",
      "Leyendo el archivo: contaminacion-atmosferica-y-ozono-promedios-por-horas_202308.csv\n",
      "Leyendo el archivo: contaminacion-atmosferica-y-ozono-promedios-por-horas_202310.csv\n",
      "Leyendo el archivo: contaminacion-atmosferica-y-ozono-promedios-por-horas_202311.csv\n",
      "Leyendo el archivo: contaminacion-atmosferica-y-ozono-promedios-por-horas_202312.csv\n",
      "Procesando la carpeta: 2024_csv_files\n",
      "Leyendo el archivo: contaminacion-atmosferica-y-ozono-promedios-por-horas_202401.csv\n"
     ]
    },
    {
     "name": "stderr",
     "output_type": "stream",
     "text": [
      "C:\\Users\\snkle\\AppData\\Local\\Temp\\ipykernel_9812\\2118504879.py:29: DtypeWarning: Columns (18) have mixed types. Specify dtype option on import or set low_memory=False.\n",
      "  df = pd.read_csv(csv_path, encoding='utf-8', delimiter=';', on_bad_lines='skip')\n"
     ]
    },
    {
     "name": "stdout",
     "output_type": "stream",
     "text": [
      "Leyendo el archivo: contaminacion-atmosferica-y-ozono-promedios-por-horas_202402.csv\n",
      "Leyendo el archivo: contaminacion-atmosferica-y-ozono-promedios-por-horas_202403.csv\n",
      "Leyendo el archivo: contaminacion-atmosferica-y-ozono-promedios-por-horas_202404.csv\n",
      "Leyendo el archivo: contaminacion-atmosferica-y-ozono-promedios-por-horas_202405.csv\n",
      "Leyendo el archivo: contaminacion-atmosferica-y-ozono-promedios-por-horas_202406.csv\n",
      "Leyendo el archivo: contaminacion-atmosferica-y-ozono-promedios-por-horas_202407.csv\n",
      "Leyendo el archivo: contaminacion-atmosferica-y-ozono-promedios-por-horas_202408.csv\n",
      "Leyendo el archivo: contaminacion-atmosferica-y-ozono-promedios-por-horas_202409.csv\n",
      "Leyendo el archivo: contaminacion-atmosferica-y-ozono-promedios-por-horas_202410.csv\n"
     ]
    },
    {
     "name": "stderr",
     "output_type": "stream",
     "text": [
      "C:\\Users\\snkle\\AppData\\Local\\Temp\\ipykernel_9812\\2118504879.py:29: DtypeWarning: Columns (10,11,12,17) have mixed types. Specify dtype option on import or set low_memory=False.\n",
      "  df = pd.read_csv(csv_path, encoding='utf-8', delimiter=';', on_bad_lines='skip')\n"
     ]
    },
    {
     "name": "stdout",
     "output_type": "stream",
     "text": [
      "Leyendo el archivo: contaminacion-atmosferica-y-ozono-promedios-por-horas_202411.csv\n",
      "Archivo combinado de estaciones guardado en: c:\\Users\\snkle\\Documents\\GitHub\\ProyectoContaminaci-n\\Proyecto\\Ingesta\\ESTACIONES_COMBINADAS_NO_LIMPIO\\estaciones_combinadas_NO_LIMPIO.csv\n"
     ]
    }
   ],
   "source": [
    "import os\n",
    "import pandas as pd\n",
    "\n",
    "estaciones = [\"ELX - AGROALIMENTARI\", \"ORIHUELA\", \"TORREVIEJA\"]\n",
    "\n",
    "def procesar_csv():\n",
    "    base_dir = os.getcwd()  # Carpeta actual\n",
    "    year_folders = [f for f in os.listdir(base_dir) if os.path.isdir(f) and f.endswith(\"_csv_files\")]\n",
    "\n",
    "    # Crear un DataFrame para almacenar los datos combinados de las estaciones\n",
    "    combined_data = pd.DataFrame()\n",
    "\n",
    "    for folder in year_folders:\n",
    "        print(f\"Procesando la carpeta: {folder}\")\n",
    "        folder_path = os.path.join(base_dir, folder)\n",
    "\n",
    "        # Obtener todos los archivos CSV en la carpeta\n",
    "        csv_files = [f for f in os.listdir(folder_path) if f.endswith(\".csv\")]\n",
    "\n",
    "        for csv_file in csv_files:\n",
    "            csv_path = os.path.join(folder_path, csv_file)\n",
    "            print(f\"Leyendo el archivo: {csv_file}\")\n",
    "\n",
    "            try:\n",
    "                # Leer el archivo CSV en un DataFrame\n",
    "                df = pd.read_csv(csv_path, encoding='utf-8', delimiter=';', on_bad_lines='skip')\n",
    "\n",
    "                # Verificar si la columna NOM_ESTACION existe\n",
    "                if 'NOM_ESTACION' not in df.columns:\n",
    "                    print(f\"El archivo {csv_file} no contiene la columna 'NOM_ESTACION'.\")\n",
    "                    continue\n",
    "\n",
    "                # Filtrar los datos por las estaciones especificadas y acumularlos\n",
    "                df_filtered = df[df['NOM_ESTACION'].isin(estaciones)]\n",
    "                if not df_filtered.empty:\n",
    "                    combined_data = pd.concat([combined_data, df_filtered], ignore_index=True)\n",
    "\n",
    "            except Exception as e:\n",
    "                print(f\"Error al procesar el archivo {csv_file}: {e}\")\n",
    "\n",
    "    # Guardar el archivo CSV combinado\n",
    "    if not combined_data.empty:\n",
    "        # Crear una carpeta de salida si no existe\n",
    "        output_folder = os.path.join(base_dir, \"ESTACIONES_COMBINADAS_NO_LIMPIO\")\n",
    "        if not os.path.exists(output_folder):\n",
    "            os.makedirs(output_folder)\n",
    "\n",
    "        # Guardar el archivo combinado\n",
    "        output_file = os.path.join(output_folder, \"estaciones_combinadas_NO_LIMPIO.csv\")\n",
    "        combined_data.to_csv(output_file, index=False, encoding='utf-8')\n",
    "        print(f\"Archivo combinado de estaciones guardado en: {output_file}\")\n",
    "\n",
    "procesar_csv()\n"
   ]
  }
 ],
 "metadata": {
  "kernelspec": {
   "display_name": "Python 3",
   "language": "python",
   "name": "python3"
  },
  "language_info": {
   "codemirror_mode": {
    "name": "ipython",
    "version": 3
   },
   "file_extension": ".py",
   "mimetype": "text/x-python",
   "name": "python",
   "nbconvert_exporter": "python",
   "pygments_lexer": "ipython3",
   "version": "3.10.11"
  }
 },
 "nbformat": 4,
 "nbformat_minor": 2
}
