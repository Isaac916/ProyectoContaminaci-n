{
 "cells": [
  {
   "cell_type": "code",
   "execution_count": null,
   "metadata": {},
   "outputs": [],
   "source": [
    "import os\n",
    "import pandas as pd\n",
    "\n",
    "estaciones = [\"ELX - AGROALIMENTARI\", \"ORIHUELA\", \"TORREVIEJA\"]\n",
    "\n",
    "def procesar_csv():\n",
    "    base_dir = os.getcwd()  # Carpeta actual\n",
    "    year_folders = [f for f in os.listdir(base_dir) if os.path.isdir(f) and f.endswith(\"_csv_files\")]\n",
    "\n",
    "    # Crear un DataFrame para almacenar los datos combinados de las estaciones\n",
    "    combined_data = pd.DataFrame()\n",
    "\n",
    "    for folder in year_folders:\n",
    "        print(f\"Procesando la carpeta: {folder}\")\n",
    "        folder_path = os.path.join(base_dir, folder)\n",
    "\n",
    "        # Obtener todos los archivos CSV en la carpeta\n",
    "        csv_files = [f for f in os.listdir(folder_path) if f.endswith(\".csv\")]\n",
    "\n",
    "        for csv_file in csv_files:\n",
    "            csv_path = os.path.join(folder_path, csv_file)\n",
    "            print(f\"Leyendo el archivo: {csv_file}\")\n",
    "\n",
    "            try:\n",
    "                # Leer el archivo CSV en un DataFrame\n",
    "                df = pd.read_csv(csv_path, encoding='utf-8', delimiter=';', on_bad_lines='skip')\n",
    "\n",
    "                # Verificar si la columna NOM_ESTACION existe\n",
    "                if 'NOM_ESTACION' not in df.columns:\n",
    "                    print(f\"El archivo {csv_file} no contiene la columna 'NOM_ESTACION'.\")\n",
    "                    continue\n",
    "\n",
    "                # Filtrar los datos por las estaciones especificadas y acumularlos\n",
    "                df_filtered = df[df['NOM_ESTACION'].isin(estaciones)]\n",
    "                if not df_filtered.empty:\n",
    "                    combined_data = pd.concat([combined_data, df_filtered], ignore_index=True)\n",
    "\n",
    "            except Exception as e:\n",
    "                print(f\"Error al procesar el archivo {csv_file}: {e}\")\n",
    "\n",
    "    # Guardar el archivo CSV combinado\n",
    "    if not combined_data.empty:\n",
    "        # Crear una carpeta de salida si no existe\n",
    "        output_folder = os.path.join(base_dir, \"ESTACIONES_COMBINADAS_NO_LIMPIO\")\n",
    "        if not os.path.exists(output_folder):\n",
    "            os.makedirs(output_folder)\n",
    "\n",
    "        # Guardar el archivo combinado\n",
    "        output_file = os.path.join(output_folder, \"estaciones_combinadas_NO_LIMPIO.csv\")\n",
    "        combined_data.to_csv(output_file, index=False, encoding='utf-8')\n",
    "        print(f\"Archivo combinado de estaciones guardado en: {output_file}\")\n",
    "\n",
    "procesar_csv()\n"
   ]
  }
 ],
 "metadata": {
  "kernelspec": {
   "display_name": "Python 3",
   "language": "python",
   "name": "python3"
  },
  "language_info": {
   "codemirror_mode": {
    "name": "ipython",
    "version": 3
   },
   "file_extension": ".py",
   "mimetype": "text/x-python",
   "name": "python",
   "nbconvert_exporter": "python",
   "pygments_lexer": "ipython3",
   "version": "3.13.0"
  }
 },
 "nbformat": 4,
 "nbformat_minor": 2
}
